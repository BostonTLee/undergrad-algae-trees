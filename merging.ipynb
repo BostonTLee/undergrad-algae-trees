{
 "cells": [
  {
   "cell_type": "markdown",
   "metadata": {},
   "source": [
    "# Merging In-Situ & LandSat data"
   ]
  },
  {
   "cell_type": "code",
   "execution_count": 41,
   "metadata": {},
   "outputs": [],
   "source": [
    "import datetime as dt\n",
    "\n",
    "import matplotlib.pyplot as plt\n",
    "import pandas as pd\n",
    "import seaborn as sb"
   ]
  },
  {
   "cell_type": "markdown",
   "metadata": {},
   "source": [
    "First, let's read in the data as pandas dataframes."
   ]
  },
  {
   "cell_type": "code",
   "execution_count": 76,
   "metadata": {},
   "outputs": [],
   "source": [
    "insitu = pd.read_csv('complete_in-situ.csv', low_memory=False)-\n",
    "sat = pd.read_csv('larger_landsat.csv', low_memory=False)"
   ]
  },
  {
   "cell_type": "markdown",
   "metadata": {},
   "source": [
    "To make them easier to work with, let's convert all columns to lowercase."
   ]
  },
  {
   "cell_type": "code",
   "execution_count": 80,
   "metadata": {},
   "outputs": [],
   "source": [
    "insitu.columns = [x.lower() for x in insitu.columns]\n",
    "sat.columns = [x.lower() for x in sat.columns]"
   ]
  },
  {
   "cell_type": "markdown",
   "metadata": {},
   "source": [
    "The two datasets use different datetime formats, so let's convert them to a common datetime type."
   ]
  },
  {
   "cell_type": "code",
   "execution_count": 81,
   "metadata": {},
   "outputs": [],
   "source": [
    "insitu['date'] = pd.to_datetime(insitu['date'])\n",
    "sat['date'] = pd.to_datetime(sat['date'])"
   ]
  },
  {
   "cell_type": "markdown",
   "metadata": {},
   "source": [
    "And let's check the number of observations in each dataset."
   ]
  },
  {
   "cell_type": "code",
   "execution_count": 82,
   "metadata": {},
   "outputs": [
    {
     "data": {
      "text/plain": [
       "23556"
      ]
     },
     "execution_count": 82,
     "metadata": {},
     "output_type": "execute_result"
    }
   ],
   "source": [
    "len(insitu)"
   ]
  },
  {
   "cell_type": "code",
   "execution_count": 83,
   "metadata": {},
   "outputs": [
    {
     "data": {
      "text/plain": [
       "654306"
      ]
     },
     "execution_count": 83,
     "metadata": {},
     "output_type": "execute_result"
    }
   ],
   "source": [
    "len(sat)"
   ]
  },
  {
   "cell_type": "markdown",
   "metadata": {},
   "source": [
    "What's the number of resulting observations if perform a simple inner join using the `date` & `comid` as merge keys?"
   ]
  },
  {
   "cell_type": "code",
   "execution_count": 84,
   "metadata": {},
   "outputs": [
    {
     "data": {
      "text/plain": [
       "3609"
      ]
     },
     "execution_count": 84,
     "metadata": {},
     "output_type": "execute_result"
    }
   ],
   "source": [
    "df = insitu.merge(sat, on=['date', 'comid'])\n",
    "len(df)"
   ]
  },
  {
   "cell_type": "markdown",
   "metadata": {},
   "source": [
    "What's the number of resulting observations if we allow a 1-day difference in `date`?"
   ]
  },
  {
   "cell_type": "code",
   "execution_count": 85,
   "metadata": {},
   "outputs": [
    {
     "data": {
      "text/plain": [
       "10358"
      ]
     },
     "execution_count": 85,
     "metadata": {},
     "output_type": "execute_result"
    }
   ],
   "source": [
    "# add columns to sat that hold the date plus/minus 1 day\n",
    "sat['date_plus_1'] = sat['date'] + dt.timedelta(days=1)\n",
    "sat['date_minus_1'] = sat['date'] + dt.timedelta(days=-1)\n",
    "# create a list to hold the individual merge results\n",
    "assemble = []\n",
    "# merge on equal dates\n",
    "assemble.append(insitu.merge(sat, on=['date', 'comid']))\n",
    "# merge on sat date is 1 day ahead of insitu date\n",
    "assemble.append(insitu.merge(sat, left_on=['date', 'comid'], right_on=['date_plus_1', 'comid']))\n",
    "# merge on sat date is 1 day behind insitu date\n",
    "assemble.append(insitu.merge(sat, left_on=['date', 'comid'], right_on=['date_minus_1', 'comid']))\n",
    "# create a new dataframe from individual merge results\n",
    "df = pd.concat(assemble)\n",
    "len(df)"
   ]
  },
  {
   "cell_type": "markdown",
   "metadata": {},
   "source": [
    "Finally, I'd like to see the distribution of the minimum time gaps of in-situ observations. For each observation, what is minimum time delta between that observation and all LandSat observations of the same lake?"
   ]
  },
  {
   "cell_type": "code",
   "execution_count": 72,
   "metadata": {},
   "outputs": [],
   "source": [
    "mintimegap = insitu.apply(\n",
    "    lambda x: (sat[sat['comid'] == x['comid']]['date'] - x['date']).abs().min(),\n",
    "    axis=1\n",
    ")"
   ]
  },
  {
   "cell_type": "markdown",
   "metadata": {},
   "source": [
    "Let's make a histogram of the minimum time gaps."
   ]
  },
  {
   "cell_type": "code",
   "execution_count": 73,
   "metadata": {},
   "outputs": [
    {
     "data": {
      "image/png": "[encoded data removed]",
      "text/plain": [
       "<Figure size 432x288 with 1 Axes>"
      ]
     },
     "metadata": {
      "needs_background": "light"
     },
     "output_type": "display_data"
    }
   ],
   "source": [
    "sb.distplot(mintimegap.dt.days.dropna(), kde=False)\n",
    "sb.despine()\n",
    "plt.show()"
   ]
  },
  {
   "cell_type": "markdown",
   "metadata": {},
   "source": [
    "We can zoom in to a more interesting window, $<50$ days."
   ]
  },
  {
   "cell_type": "code",
   "execution_count": 75,
   "metadata": {},
   "outputs": [
    {
     "data": {
      "image/png": "[encoded data removed]",
      "text/plain": [
       "<Figure size 432x288 with 1 Axes>"
      ]
     },
     "metadata": {
      "needs_background": "light"
     },
     "output_type": "display_data"
    }
   ],
   "source": [
    "timegap_filtered = mintimegap.dt.days.dropna()\n",
    "timegap_filtered = timegap_filtered[timegap_filtered < 50]\n",
    "sb.distplot(timegap_filtered, kde=False)\n",
    "sb.despine()\n",
    "plt.show()"
   ]
  },
  {
   "cell_type": "code",
   "execution_count": null,
   "metadata": {},
   "outputs": [],
   "source": []
  }
 ],
 "metadata": {
  "kernelspec": {
   "display_name": "Python 3",
   "language": "python",
   "name": "python3"
  },
  "language_info": {
   "codemirror_mode": {
    "name": "ipython",
    "version": 3
   },
   "file_extension": ".py",
   "mimetype": "text/x-python",
   "name": "python",
   "nbconvert_exporter": "python",
   "pygments_lexer": "ipython3",
   "version": "3.7.0"
  }
 },
 "nbformat": 4,
 "nbformat_minor": 2
}
